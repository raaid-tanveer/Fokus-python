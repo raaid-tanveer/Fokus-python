{
 "metadata": {
  "language_info": {
   "codemirror_mode": {
    "name": "ipython",
    "version": 3
   },
   "file_extension": ".py",
   "mimetype": "text/x-python",
   "name": "python",
   "nbconvert_exporter": "python",
   "pygments_lexer": "ipython3",
   "version": "3.7.6-final"
  },
  "orig_nbformat": 2,
  "kernelspec": {
   "name": "python_defaultSpec_1597422864935",
   "display_name": "Python 3.7.6 64-bit ('base': conda)"
  }
 },
 "nbformat": 4,
 "nbformat_minor": 2,
 "cells": [
  {
   "cell_type": "code",
   "execution_count": 21,
   "metadata": {
    "tags": []
   },
   "outputs": [
    {
     "output_type": "stream",
     "name": "stderr",
     "text": "[nltk_data] Downloading package stopwords to\n[nltk_data]     /Users/raaidtanveer/nltk_data...\n[nltk_data]   Package stopwords is already up-to-date!\n"
    }
   ],
   "source": [
    "#importing libraries\n",
    "from youtube_transcript_api import YouTubeTranscriptApi\n",
    "import urllib.parse\n",
    "import pandas as pd \n",
    "from sklearn.feature_extraction.text import TfidfVectorizer\n",
    "import nltk\n",
    "import re\n",
    "nltk.download(\"stopwords\")\n",
    "from nltk.corpus import stopwords"
   ]
  },
  {
   "cell_type": "code",
   "execution_count": 22,
   "metadata": {},
   "outputs": [],
   "source": [
    "#getting Youtube transcript\n",
    "url = \"https://www.youtube.com/watch?v=EKvHQc3QEow&list=PL19E79A0638C8D449\"\n",
    "url_data = urllib.parse.urlparse(url)\n",
    "query = urllib.parse.parse_qs(url_data.query)\n",
    "video_id = query[\"v\"][0]\n",
    "transcript = YouTubeTranscriptApi.get_transcript(video_id)\n",
    "text = \"\"\n",
    "for d in transcript:\n",
    "    txt = d['text'].replace('\\n', ' ')\n",
    "    text += txt + ' '"
   ]
  },
  {
   "cell_type": "code",
   "execution_count": 23,
   "metadata": {},
   "outputs": [],
   "source": [
    "#function to generate tfidf vectors for words in the text excluding stopwords. Takes only text parameter. Returns a pandas dataframe with the words and their respective tfidf vector values.\n",
    "def generate_tfidf_vectors(text):\n",
    "    vectorizer = TfidfVectorizer()\n",
    "    vectors = vectorizer.fit_transform([text])\n",
    "    feature_names = vectorizer.get_feature_names()\n",
    "    dense = vectors.todense()\n",
    "    denselist = dense.tolist()\n",
    "    df = pd.DataFrame({'word':feature_names,'value':denselist[0]})\n",
    "    sorted_df = df.sort_values(by=['value'], ascending=False)\n",
    "    final_df = sorted_df[~sorted_df['word'].isin(stopwords.words('english'))]\n",
    "    final_df.reset_index(inplace=True,drop=True)\n",
    "    return final_df\n",
    "#function to search for sentences containing a particular word. Takes the text and word as parameters. Returns a list of sentences containing the word from the text.\n",
    "def _find_sentences_with_word(raw_text, word):\n",
    "    text = re.split('(?<=[.!?])',raw_text)\n",
    "    neo_sentences = []\n",
    "    for sent in text:\n",
    "        if word in sent:\n",
    "            neo_sentences.append(sent)\n",
    "    return neo_sentences\n",
    "#creates fill in the blank question. Takes the sentence and the word as parameter to create question. Returns fill int he blank question.\n",
    "def _create_fill_in_blank(text, word):\n",
    "    return text.lower().replace(word, '_____')\n",
    "#generates fill in the blank questions based on the text and a word. Takes the text and word as paramters. Returns a list of questions. \n",
    "def question_gen(text, word):\n",
    "    found_sentences = _find_sentences_with_word(text, word)\n",
    "    questions = []\n",
    "    if len(found_sentences) > 0:\n",
    "        for sentence in found_sentences:\n",
    "            question = _create_fill_in_blank(sentence, word)\n",
    "            questions.append(question)\n",
    "    return questions \n",
    "\n",
    "#generating a list of questions\n",
    "questions = question_gen(text, generate_tfidf_vectors(text).iloc[0]['word'])"
   ]
  },
  {
   "cell_type": "code",
   "execution_count": 24,
   "metadata": {},
   "outputs": [],
   "source": [
    "#creates a ranked pandas dataframe of questions. Ranks based on the average tfidf vector value per word multiplied by the tfidf vector value for the omitted word. Takes the text and search depth as parameter, search depth being the number of words with the highest tfidf vector values to use to generate questions. Returns a ranked dataframe of questions with their respective answers, average tfidf vector values per word in the sentence and scores(average tfidf vector value per word multiplied by the tfidf vector value for the omitted word). \n",
    "def ranked_question_df(text, search_depth):\n",
    "    sentences = pd.DataFrame(columns=['sentences','avg_tfidf_per_word', 'answer', 'score'])\n",
    "    tfidf_df = generate_tfidf_vectors(text)\n",
    "    for word in tfidf_df.iloc[:search_depth]['word']:\n",
    "        for sentence in _find_sentences_with_word(text, word):\n",
    "            words = set(sentence.split(' '))\n",
    "            avg = tfidf_df[tfidf_df['word'].isin(words)]['value'].sum()/len(words)\n",
    "            sentences = sentences.append(pd.Series({'sentences':_create_fill_in_blank(sentence, word), 'avg_tfidf_per_word':avg, 'answer':word, 'score': avg * float(tfidf_df[tfidf_df['word']==word]['value'])}), ignore_index=True)\n",
    "    return sentences.drop_duplicates().sort_values(by=['score'], ascending=False)\n",
    "\n",
    "ranked_questions = ranked_question_df(text, 20).head()"
   ]
  },
  {
   "cell_type": "code",
   "execution_count": 25,
   "metadata": {},
   "outputs": [
    {
     "output_type": "execute_result",
     "data": {
      "text/plain": "{' your _____ of y is going to get smaller and smaller and smaller.': 'change',\n ' the _____ in distance is this right over here.': 'change',\n ' your change of y is _____ to get smaller and smaller and smaller.': 'going',\n ' so our _____ in time is equal to 9.': 'change',\n ' let me write it this way, his average speed is just going to be his _____ in distance over his _____ in time.': 'change'}"
     },
     "metadata": {},
     "execution_count": 25
    }
   ],
   "source": [
    "dict(zip(ranked_questions.iloc[:5]['sentences'].tolist(), ranked_questions.iloc[:5]['answer'].tolist()))"
   ]
  },
  {
   "cell_type": "code",
   "execution_count": null,
   "metadata": {},
   "outputs": [],
   "source": []
  }
 ]
}